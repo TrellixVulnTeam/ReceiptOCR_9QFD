{
 "cells": [
  {
   "cell_type": "markdown",
   "metadata": {},
   "source": [
    "# CORD Dataset Quick Exploration"
   ]
  },
  {
   "cell_type": "code",
   "execution_count": 4,
   "metadata": {},
   "outputs": [],
   "source": [
    "# !pip install easyimages"
   ]
  },
  {
   "cell_type": "code",
   "execution_count": 5,
   "metadata": {},
   "outputs": [
    {
     "name": "stdout",
     "output_type": "stream",
     "text": [
      "/home/vantuan5644/anaconda3/envs/ReceiptOCR/bin/python\n"
     ]
    }
   ],
   "source": [
    "!which python"
   ]
  },
  {
   "cell_type": "code",
   "execution_count": 6,
   "metadata": {},
   "outputs": [
    {
     "data": {
      "text/plain": [
       "'/home/vantuan5644/anaconda3/envs/ReceiptOCR/bin/python'"
      ]
     },
     "execution_count": 6,
     "metadata": {},
     "output_type": "execute_result"
    }
   ],
   "source": [
    "import sys\n",
    "sys.executable"
   ]
  },
  {
   "cell_type": "code",
   "execution_count": 7,
   "metadata": {},
   "outputs": [],
   "source": [
    "from easyimages import EasyImageList"
   ]
  },
  {
   "cell_type": "code",
   "execution_count": 8,
   "metadata": {},
   "outputs": [],
   "source": [
    "image_list = EasyImageList.from_folder('../datasets/CORD/CORD/train/image')"
   ]
  },
  {
   "cell_type": "code",
   "execution_count": 9,
   "metadata": {},
   "outputs": [],
   "source": [
    "image_list.symlink_images()"
   ]
  },
  {
   "cell_type": "code",
   "execution_count": 10,
   "metadata": {},
   "outputs": [],
   "source": [
    "%matplotlib inline"
   ]
  },
  {
   "cell_type": "code",
   "execution_count": 11,
   "metadata": {},
   "outputs": [
    {
     "data": {
      "text/html": [
       "<div class=\"zoom\"><img style='width: 20px; height: 20px; margin: 1px; float: left; border: 0px solid black;'title=[] src='temp_link/receipt_00796.png'/></div><div class=\"zoom\"><img style='width: 20px; height: 20px; margin: 1px; float: left; border: 0px solid black;'title=[] src='temp_link/receipt_00665.png'/></div><div class=\"zoom\"><img style='width: 20px; height: 20px; margin: 1px; float: left; border: 0px solid black;'title=[] src='temp_link/receipt_00789.png'/></div><div class=\"zoom\"><img style='width: 20px; height: 20px; margin: 1px; float: left; border: 0px solid black;'title=[] src='temp_link/receipt_00476.png'/></div><div class=\"zoom\"><img style='width: 20px; height: 20px; margin: 1px; float: left; border: 0px solid black;'title=[] src='temp_link/receipt_00377.png'/></div><div class=\"zoom\"><img style='width: 20px; height: 20px; margin: 1px; float: left; border: 0px solid black;'title=[] src='temp_link/receipt_00026.png'/></div><div class=\"zoom\"><img style='width: 20px; height: 20px; margin: 1px; float: left; border: 0px solid black;'title=[] src='temp_link/receipt_00765.png'/></div><div class=\"zoom\"><img style='width: 20px; height: 20px; margin: 1px; float: left; border: 0px solid black;'title=[] src='temp_link/receipt_00613.png'/></div><div class=\"zoom\"><img style='width: 20px; height: 20px; margin: 1px; float: left; border: 0px solid black;'title=[] src='temp_link/receipt_00693.png'/></div><div class=\"zoom\"><img style='width: 20px; height: 20px; margin: 1px; float: left; border: 0px solid black;'title=[] src='temp_link/receipt_00333.png'/></div>"
      ],
      "text/plain": [
       "<IPython.core.display.HTML object>"
      ]
     },
     "metadata": {},
     "output_type": "display_data"
    }
   ],
   "source": [
    "image_list.html(sample=10, size=20)"
   ]
  },
  {
   "cell_type": "markdown",
   "metadata": {},
   "source": [
    "## Padding images"
   ]
  },
  {
   "cell_type": "code",
   "execution_count": 12,
   "metadata": {},
   "outputs": [],
   "source": [
    "import sys\n",
    "from random import randint\n",
    "import cv2 as cv\n"
   ]
  },
  {
   "cell_type": "code",
   "execution_count": 16,
   "metadata": {},
   "outputs": [],
   "source": [
    "import os\n"
   ]
  },
  {
   "cell_type": "code",
   "execution_count": 20,
   "metadata": {},
   "outputs": [
    {
     "data": {
      "text/plain": [
       "'img_1.jpg'"
      ]
     },
     "execution_count": 20,
     "metadata": {},
     "output_type": "execute_result"
    }
   ],
   "source": [
    "path = '../datasets/COOP/train/img_1.jpg'\n",
    "os.path.split(path)[1]"
   ]
  },
  {
   "cell_type": "code",
   "execution_count": 27,
   "metadata": {},
   "outputs": [],
   "source": [
    "def padding_image(img_path, output_dir=None):\n",
    "    src = cv.imread(img_path, cv.IMREAD_COLOR)\n",
    "\n",
    "    borderType = cv.BORDER_REPLICATE\n",
    "\n",
    "    top = int(0.05 * src.shape[0])  # shape[0] = rows\n",
    "    bottom = top\n",
    "    left = int(0.05 * src.shape[1])  # shape[1] = cols\n",
    "    right = left\n",
    "\n",
    "    dst = cv.copyMakeBorder(src, top, bottom, left, right, borderType, None, value)\n",
    "    \n",
    "    file_name = os.path.splitext(os.path.split(path)[1]) # tuple\n",
    "    if output_dir is None:\n",
    "        output_dir = os.path.split(img_path)[0]\n",
    "    new_file = os.path.join(output_dir, file_name[0] + '_padded' + file_name[1])\n",
    "    cv.imwrite(new_file, dst)"
   ]
  },
  {
   "cell_type": "code",
   "execution_count": 30,
   "metadata": {},
   "outputs": [],
   "source": [
    "dataset_dir = '../datasets/COOP/train'\n",
    "output_dir = '../datasets/COOP/padded'\n",
    "\n",
    "for img in os.listdir(dataset_dir):\n",
    "    img_path = os.path.join(dataset_dir, img)\n",
    "    padding_image(img_path, output_dir = output_dir)"
   ]
  },
  {
   "cell_type": "code",
   "execution_count": null,
   "metadata": {},
   "outputs": [],
   "source": []
  }
 ],
 "metadata": {
  "kernelspec": {
   "display_name": "Python 3",
   "language": "python",
   "name": "python3"
  },
  "language_info": {
   "codemirror_mode": {
    "name": "ipython",
    "version": 3
   },
   "file_extension": ".py",
   "mimetype": "text/x-python",
   "name": "python",
   "nbconvert_exporter": "python",
   "pygments_lexer": "ipython3",
   "version": "3.6.9"
  }
 },
 "nbformat": 4,
 "nbformat_minor": 4
}
