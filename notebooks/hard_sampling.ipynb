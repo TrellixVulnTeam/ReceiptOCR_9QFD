{
 "cells": [
  {
   "cell_type": "code",
   "execution_count": 1,
   "metadata": {},
   "outputs": [],
   "source": [
    "import os\n",
    "os.chdir('..')"
   ]
  },
  {
   "cell_type": "code",
   "execution_count": 2,
   "metadata": {},
   "outputs": [],
   "source": [
    "src_dir = 'datasets/COOP/Easy - Difficult images/'"
   ]
  },
  {
   "cell_type": "code",
   "execution_count": 3,
   "metadata": {},
   "outputs": [],
   "source": [
    "dataset_splits = os.listdir(src_dir)"
   ]
  },
  {
   "cell_type": "code",
   "execution_count": 4,
   "metadata": {},
   "outputs": [
    {
     "data": {
      "text/plain": [
       "['difficult', 'easy']"
      ]
     },
     "execution_count": 4,
     "metadata": {},
     "output_type": "execute_result"
    }
   ],
   "source": [
    "dataset_splits"
   ]
  },
  {
   "cell_type": "code",
   "execution_count": 8,
   "metadata": {},
   "outputs": [],
   "source": [
    "dst_dir = 'datasets/COOP/output/'"
   ]
  },
  {
   "cell_type": "code",
   "execution_count": 9,
   "metadata": {},
   "outputs": [],
   "source": [
    "import shutil"
   ]
  },
  {
   "cell_type": "code",
   "execution_count": 10,
   "metadata": {},
   "outputs": [
    {
     "name": "stdout",
     "output_type": "stream",
     "text": [
      "difficult\n",
      "easy\n"
     ]
    }
   ],
   "source": [
    "for split in dataset_splits:\n",
    "    print(split)\n",
    "    for filename in os.listdir(os.path.join(src_dir, split)):\n",
    "        # copy img file\n",
    "        dst_split = os.path.join(dst_dir, split)\n",
    "        if not os.path.exists(dst_split):\n",
    "            os.makedirs(dst_split)\n",
    "        shutil.copyfile(os.path.join(dst_dir, filename), os.path.join(dst_split, filename))\n",
    "        # remove\n",
    "        os.remove(os.path.join(dst_dir, filename))\n",
    "        # copy xml file\n",
    "        xml = filename.replace('.jpg', '.xml')\n",
    "        shutil.copyfile(os.path.join(dst_dir, xml), os.path.join(dst_split, xml))\n",
    "        # remove\n",
    "        os.remove(os.path.join(dst_dir, xml))\n"
   ]
  },
  {
   "cell_type": "markdown",
   "metadata": {},
   "source": [
    "## Remove some classes from xml labels"
   ]
  },
  {
   "cell_type": "code",
   "execution_count": 15,
   "metadata": {},
   "outputs": [],
   "source": [
    "PASCAL_CLASSES = ['top_left', 'top_right', 'bottom_left', 'bottom_right', 'receipt']\n",
    "\n",
    "# Fill in the classes you want to retain\n",
    "\n",
    "classesINeed = ['top_left', 'top_right', 'bottom_left', 'bottom_right']\n",
    "\n",
    "# Define the relevant directories \n",
    "\n",
    "xmlDirectory = 'datasets/COOP/output/easy'\n",
    "\n",
    "modifiedXmlDir = 'datasets/COOP/output/easy/new_annotations/'\n",
    "\n",
    "\n",
    "import os\n",
    "from shutil import copyfile\n",
    "from os.path import isfile, join\n",
    "\n",
    "# Get all the xml files into list\n",
    "onlyfiles = [f for f in os.listdir(xmlDirectory) if isfile(join(xmlDirectory,f)) and f.endswith('.xml')]\n",
    "\n",
    "# Parse each XML file\n",
    "import xml.etree.ElementTree as ET\n",
    "\n",
    "for filename in onlyfiles:\n",
    "    \n",
    "\tfilelink = join(xmlDirectory,filename)\n",
    "\ttree = ET.parse (filelink)\n",
    "\troot = tree.getroot()\n",
    "\tobjs = root.findall('object')\n",
    "\tobjNum  = 0\n",
    "\tfor obj in objs:\n",
    "\t\tobjNum += 1\n",
    "\t\tcurrentObj = obj.find('name').text\n",
    "\t\tif currentObj not in classesINeed:\n",
    "\t\t\troot.remove(obj)\n",
    "\t\t\tobjNum  -= 1\n",
    "# \t\telse:\n",
    "# \t\t\tfileDict[currentObj].append(filename)\n",
    "\t\t\n",
    "\tif objNum  == 0 :\n",
    "\t\tcontinue # drop the file, there are no objects of 'interest '\n",
    "\telse : # write to the file as xml to the new folder\n",
    "\t\tfwrite = open(modifiedXmlDir + filename , 'wb')\n",
    "\t\ttree.write(fwrite)\n",
    "\t\tfwrite.close()\n",
    "\t\n"
   ]
  },
  {
   "cell_type": "markdown",
   "metadata": {},
   "source": [
    "## Remove unnecessary jpg"
   ]
  },
  {
   "cell_type": "code",
   "execution_count": 2,
   "metadata": {},
   "outputs": [],
   "source": [
    "def is_image_file(filename):\n",
    "    return True if filename.lower().endswith(('.png', '.jpg', '.jpeg', '.tiff', '.bmp', '.gif')) else False\n"
   ]
  },
  {
   "cell_type": "code",
   "execution_count": 3,
   "metadata": {},
   "outputs": [
    {
     "name": "stdout",
     "output_type": "stream",
     "text": [
      "/home/vantuan5644/PycharmProjects/ReceiptOCR\n"
     ]
    }
   ],
   "source": [
    "!pwd"
   ]
  },
  {
   "cell_type": "code",
   "execution_count": 15,
   "metadata": {},
   "outputs": [
    {
     "name": "stdout",
     "output_type": "stream",
     "text": [
      "Removed 0 file, 168 files left\n"
     ]
    }
   ],
   "source": [
    "src_dir ='datasets/COOP/transformed'\n",
    "\n",
    "xml_filenames = [os.path.splitext(file)[0] for file in os.listdir(src_dir) if file.lower().endswith('.xml')]\n",
    "\n",
    "img_files = [file for file in os.listdir(src_dir) if is_image_file(file) and os.path.splitext(file)[0] not in xml_filenames]\n",
    "\n",
    "count = 0\n",
    "for file in img_files:\n",
    "    file = os.path.join(src_dir, file)\n",
    "    if os.path.exists(file):\n",
    "        os.remove(file)\n",
    "        count += 1\n",
    "print(f'Removed {count} file, {len(xml_files)} files left')"
   ]
  },
  {
   "cell_type": "code",
   "execution_count": null,
   "metadata": {},
   "outputs": [],
   "source": []
  }
 ],
 "metadata": {
  "kernelspec": {
   "display_name": "Python 3",
   "language": "python",
   "name": "python3"
  },
  "language_info": {
   "codemirror_mode": {
    "name": "ipython",
    "version": 3
   },
   "file_extension": ".py",
   "mimetype": "text/x-python",
   "name": "python",
   "nbconvert_exporter": "python",
   "pygments_lexer": "ipython3",
   "version": "3.7.9"
  }
 },
 "nbformat": 4,
 "nbformat_minor": 4
}
