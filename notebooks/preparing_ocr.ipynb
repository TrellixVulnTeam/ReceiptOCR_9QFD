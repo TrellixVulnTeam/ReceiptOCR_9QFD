{
 "cells": [
  {
   "cell_type": "code",
   "execution_count": 1,
   "metadata": {},
   "outputs": [],
   "source": [
    "# import matplotlib.pyplot as plt\n",
    "# from PIL import Image\n",
    "\n",
    "# from vietocr.tool.predictor import Predictor\n",
    "# from vietocr.tool.config import Cfg\n"
   ]
  },
  {
   "cell_type": "code",
   "execution_count": 1,
   "metadata": {},
   "outputs": [],
   "source": [
    "import os\n",
    "os.chdir('..')"
   ]
  },
  {
   "cell_type": "markdown",
   "metadata": {},
   "source": [
    "# Preparing product attr"
   ]
  },
  {
   "cell_type": "code",
   "execution_count": 2,
   "metadata": {},
   "outputs": [],
   "source": [
    "import pandas as pd"
   ]
  },
  {
   "cell_type": "code",
   "execution_count": 3,
   "metadata": {},
   "outputs": [],
   "source": [
    "csv = 'datasets/OCR/label_text_product_attrs.csv'"
   ]
  },
  {
   "cell_type": "code",
   "execution_count": 4,
   "metadata": {},
   "outputs": [],
   "source": [
    "df = pd.read_csv(csv)"
   ]
  },
  {
   "cell_type": "code",
   "execution_count": 5,
   "metadata": {},
   "outputs": [
    {
     "data": {
      "text/html": [
       "<div>\n",
       "<style scoped>\n",
       "    .dataframe tbody tr th:only-of-type {\n",
       "        vertical-align: middle;\n",
       "    }\n",
       "\n",
       "    .dataframe tbody tr th {\n",
       "        vertical-align: top;\n",
       "    }\n",
       "\n",
       "    .dataframe thead th {\n",
       "        text-align: right;\n",
       "    }\n",
       "</style>\n",
       "<table border=\"1\" class=\"dataframe\">\n",
       "  <thead>\n",
       "    <tr style=\"text-align: right;\">\n",
       "      <th></th>\n",
       "      <th>image_name</th>\n",
       "      <th>text</th>\n",
       "      <th>sku</th>\n",
       "      <th>product_name</th>\n",
       "      <th>quantity</th>\n",
       "      <th>sale_price</th>\n",
       "      <th>final_price</th>\n",
       "      <th>discounted_part</th>\n",
       "      <th>original_price</th>\n",
       "    </tr>\n",
       "  </thead>\n",
       "  <tbody>\n",
       "    <tr>\n",
       "      <th>0</th>\n",
       "      <td>img_1_padded_0.jpg</td>\n",
       "      <td>04902430779746 NX DOWNY doahoa ngotngao\\nVAT10...</td>\n",
       "      <td>4902430779746</td>\n",
       "      <td>NX DOWNY doahoa ngotngao</td>\n",
       "      <td>1</td>\n",
       "      <td>88,000.00</td>\n",
       "      <td>88,000.00</td>\n",
       "      <td>NaN</td>\n",
       "      <td>103,000.00</td>\n",
       "    </tr>\n",
       "    <tr>\n",
       "      <th>1</th>\n",
       "      <td>img_2_padded_0.jpg</td>\n",
       "      <td>04902430418287 NX DOWNY doahoa ngotngao\\nVAT10...</td>\n",
       "      <td>4902430418287</td>\n",
       "      <td>NX DOWNY doahoa ngotngao</td>\n",
       "      <td>1</td>\n",
       "      <td>129,900.00</td>\n",
       "      <td>129,900.00</td>\n",
       "      <td>NaN</td>\n",
       "      <td>159,000.00</td>\n",
       "    </tr>\n",
       "    <tr>\n",
       "      <th>2</th>\n",
       "      <td>img_2_padded_1.jpg</td>\n",
       "      <td>00075069154087 Thit hop Bris.Chop.Ham ck\\nVAT1...</td>\n",
       "      <td>75069154087</td>\n",
       "      <td>Thit hop Bris.Chop.Ham ck</td>\n",
       "      <td>1</td>\n",
       "      <td>98,900.00</td>\n",
       "      <td>98,900.00</td>\n",
       "      <td>NaN</td>\n",
       "      <td>NaN</td>\n",
       "    </tr>\n",
       "    <tr>\n",
       "      <th>3</th>\n",
       "      <td>img_2_padded_2.jpg</td>\n",
       "      <td>00000002952467 Thit xay kg-NCC\\nVAT10%    132,...</td>\n",
       "      <td>2952467</td>\n",
       "      <td>Thit xay kg-NCC</td>\n",
       "      <td>0.070 KG</td>\n",
       "      <td>132,000.00</td>\n",
       "      <td>9,240.00</td>\n",
       "      <td>NaN</td>\n",
       "      <td>NaN</td>\n",
       "    </tr>\n",
       "    <tr>\n",
       "      <th>4</th>\n",
       "      <td>img_2_padded_3.jpg</td>\n",
       "      <td>00000002950055 Cai bo xoi Kg\\nVAT10%    35,000...</td>\n",
       "      <td>2950055</td>\n",
       "      <td>Cai bo xoi Kg</td>\n",
       "      <td>0.278 KG</td>\n",
       "      <td>35,000.00</td>\n",
       "      <td>9,730.00</td>\n",
       "      <td>NaN</td>\n",
       "      <td>NaN</td>\n",
       "    </tr>\n",
       "    <tr>\n",
       "      <th>...</th>\n",
       "      <td>...</td>\n",
       "      <td>...</td>\n",
       "      <td>...</td>\n",
       "      <td>...</td>\n",
       "      <td>...</td>\n",
       "      <td>...</td>\n",
       "      <td>...</td>\n",
       "      <td>...</td>\n",
       "      <td>...</td>\n",
       "    </tr>\n",
       "    <tr>\n",
       "      <th>328</th>\n",
       "      <td>img_157_padded_13.jpg</td>\n",
       "      <td>00000002950190  Gia song Kg\\nVAT10%    13,000....</td>\n",
       "      <td>2950190</td>\n",
       "      <td>Gia song Kg</td>\n",
       "      <td>0.310 KG</td>\n",
       "      <td>13,000.00</td>\n",
       "      <td>4,030.00</td>\n",
       "      <td>NaN</td>\n",
       "      <td>NaN</td>\n",
       "    </tr>\n",
       "    <tr>\n",
       "      <th>329</th>\n",
       "      <td>img_160_padded_0.jpg</td>\n",
       "      <td>08934868150787  NG Surf huong choadkytui \\nVAT...</td>\n",
       "      <td>8934868150787</td>\n",
       "      <td>NG Surf huong choadkytui</td>\n",
       "      <td>1</td>\n",
       "      <td>79,000.00</td>\n",
       "      <td>79,000.00</td>\n",
       "      <td>NaN</td>\n",
       "      <td>114,000.00</td>\n",
       "    </tr>\n",
       "    <tr>\n",
       "      <th>330</th>\n",
       "      <td>img_160_padded_1.jpg</td>\n",
       "      <td>04902430877275  NX DOWNY phoi trong nha T\\nVAT...</td>\n",
       "      <td>4902430877275</td>\n",
       "      <td>NX DOWNY phoi trong nha T</td>\n",
       "      <td>1</td>\n",
       "      <td>129,900.00</td>\n",
       "      <td>129,900.00</td>\n",
       "      <td>NaN</td>\n",
       "      <td>159,000.00</td>\n",
       "    </tr>\n",
       "    <tr>\n",
       "      <th>331</th>\n",
       "      <td>img_160_padded_2.jpg</td>\n",
       "      <td>08934868150756  NG Surf huongsmaidmat tui\\nVAT...</td>\n",
       "      <td>8934868150756</td>\n",
       "      <td>NG Surf huongsmaidmat tui</td>\n",
       "      <td>1</td>\n",
       "      <td>79,000.00</td>\n",
       "      <td>79,000.00</td>\n",
       "      <td>NaN</td>\n",
       "      <td>114,000.00</td>\n",
       "    </tr>\n",
       "    <tr>\n",
       "      <th>332</th>\n",
       "      <td>img_160_padded_3.jpg</td>\n",
       "      <td>04902430418287  NX DOWNY doahoa ngotngao\\nVAT1...</td>\n",
       "      <td>4902430418287</td>\n",
       "      <td>NX DOWNY doahoa ngotngao</td>\n",
       "      <td>1</td>\n",
       "      <td>129,900.00</td>\n",
       "      <td>129,900.00</td>\n",
       "      <td>NaN</td>\n",
       "      <td>159,000.00</td>\n",
       "    </tr>\n",
       "  </tbody>\n",
       "</table>\n",
       "<p>333 rows × 9 columns</p>\n",
       "</div>"
      ],
      "text/plain": [
       "                image_name                                               text  \\\n",
       "0       img_1_padded_0.jpg  04902430779746 NX DOWNY doahoa ngotngao\\nVAT10...   \n",
       "1       img_2_padded_0.jpg  04902430418287 NX DOWNY doahoa ngotngao\\nVAT10...   \n",
       "2       img_2_padded_1.jpg  00075069154087 Thit hop Bris.Chop.Ham ck\\nVAT1...   \n",
       "3       img_2_padded_2.jpg  00000002952467 Thit xay kg-NCC\\nVAT10%    132,...   \n",
       "4       img_2_padded_3.jpg  00000002950055 Cai bo xoi Kg\\nVAT10%    35,000...   \n",
       "..                     ...                                                ...   \n",
       "328  img_157_padded_13.jpg  00000002950190  Gia song Kg\\nVAT10%    13,000....   \n",
       "329   img_160_padded_0.jpg  08934868150787  NG Surf huong choadkytui \\nVAT...   \n",
       "330   img_160_padded_1.jpg  04902430877275  NX DOWNY phoi trong nha T\\nVAT...   \n",
       "331   img_160_padded_2.jpg  08934868150756  NG Surf huongsmaidmat tui\\nVAT...   \n",
       "332   img_160_padded_3.jpg  04902430418287  NX DOWNY doahoa ngotngao\\nVAT1...   \n",
       "\n",
       "               sku                 product_name    quantity     sale_price  \\\n",
       "0    4902430779746    NX DOWNY doahoa ngotngao           1      88,000.00    \n",
       "1    4902430418287    NX DOWNY doahoa ngotngao           1     129,900.00    \n",
       "2      75069154087   Thit hop Bris.Chop.Ham ck           1      98,900.00    \n",
       "3          2952467             Thit xay kg-NCC    0.070 KG     132,000.00    \n",
       "4          2950055               Cai bo xoi Kg    0.278 KG      35,000.00    \n",
       "..             ...                          ...         ...            ...   \n",
       "328        2950190                  Gia song Kg   0.310 KG      13,000.00    \n",
       "329  8934868150787    NG Surf huong choadkytui           1      79,000.00    \n",
       "330  4902430877275    NX DOWNY phoi trong nha T          1     129,900.00    \n",
       "331  8934868150756    NG Surf huongsmaidmat tui          1      79,000.00    \n",
       "332  4902430418287     NX DOWNY doahoa ngotngao          1     129,900.00    \n",
       "\n",
       "       final_price discounted_part original_price  \n",
       "0       88,000.00              NaN    103,000.00   \n",
       "1      129,900.00              NaN    159,000.00   \n",
       "2       98,900.00              NaN            NaN  \n",
       "3        9,240.00              NaN            NaN  \n",
       "4        9,730.00              NaN            NaN  \n",
       "..             ...             ...            ...  \n",
       "328      4,030.00              NaN            NaN  \n",
       "329     79,000.00              NaN    114,000.00   \n",
       "330    129,900.00              NaN    159,000.00   \n",
       "331     79,000.00              NaN    114,000.00   \n",
       "332    129,900.00              NaN    159,000.00   \n",
       "\n",
       "[333 rows x 9 columns]"
      ]
     },
     "execution_count": 5,
     "metadata": {},
     "output_type": "execute_result"
    }
   ],
   "source": [
    "df"
   ]
  },
  {
   "cell_type": "code",
   "execution_count": 7,
   "metadata": {},
   "outputs": [],
   "source": [
    "# with open('datasets/OCR/ground_truth.txt', 'r') as f:\n",
    "#     lines = f.readlines()\n",
    "#     annotations = [l.strip().split(' ', 1) for l in lines]\n"
   ]
  },
  {
   "cell_type": "code",
   "execution_count": 6,
   "metadata": {},
   "outputs": [],
   "source": [
    "dataset = 'datasets/OCR/images'\n",
    "txt_files = [os.path.join(dataset, file) for file in os.listdir(dataset) if file.endswith('.txt')]\n",
    "\n",
    "annotations = []\n",
    "\n",
    "for file in txt_files:\n",
    "    with open(file, 'rb') as f:\n",
    "        s = f.read()\n",
    "        filename = os.path.splitext(os.path.splitext(os.path.split(file)[1])[0])[0]\n",
    "        annotations.append(['images/' + filename + '.jpg', s.decode('utf-8')])"
   ]
  },
  {
   "cell_type": "code",
   "execution_count": 7,
   "metadata": {},
   "outputs": [
    {
     "data": {
      "text/plain": [
       "439"
      ]
     },
     "execution_count": 7,
     "metadata": {},
     "output_type": "execute_result"
    }
   ],
   "source": [
    "len(annotations)"
   ]
  },
  {
   "cell_type": "code",
   "execution_count": 8,
   "metadata": {},
   "outputs": [],
   "source": [
    "# if not isinstance(annotations, list):\n",
    "# annotations = []\n",
    "for index, row in df.iterrows():\n",
    "    \n",
    "    annotation = [os.path.join('label_text_16012020', row['image_name']), row['text']]\n",
    "    annotations.append(annotation)\n"
   ]
  },
  {
   "cell_type": "code",
   "execution_count": 9,
   "metadata": {},
   "outputs": [
    {
     "data": {
      "text/plain": [
       "772"
      ]
     },
     "execution_count": 9,
     "metadata": {},
     "output_type": "execute_result"
    }
   ],
   "source": [
    "len(annotations)"
   ]
  },
  {
   "cell_type": "code",
   "execution_count": 10,
   "metadata": {},
   "outputs": [
    {
     "data": {
      "text/plain": [
       "['images/img_55_25_12_padded_market_name_120.jpg', 'Co.opMart PHU LAM']"
      ]
     },
     "execution_count": 10,
     "metadata": {},
     "output_type": "execute_result"
    }
   ],
   "source": [
    "annotations[0]"
   ]
  },
  {
   "cell_type": "code",
   "execution_count": 11,
   "metadata": {},
   "outputs": [],
   "source": [
    "import numpy as np"
   ]
  },
  {
   "cell_type": "code",
   "execution_count": 14,
   "metadata": {},
   "outputs": [],
   "source": [
    "train_data = []\n",
    "test_data = []\n",
    "for i, (filename, annotation) in enumerate(annotations):\n",
    "    train_data.append(''.join([filename, '\\t', annotation, '\\n']))\n",
    "test_data = np.random.choice(train_data, size=int(0.1*len(train_data)))"
   ]
  },
  {
   "cell_type": "markdown",
   "metadata": {},
   "source": [
    "# Train test split"
   ]
  },
  {
   "cell_type": "code",
   "execution_count": 50,
   "metadata": {},
   "outputs": [],
   "source": [
    "import random\n",
    "random.seed(42)"
   ]
  },
  {
   "cell_type": "code",
   "execution_count": 51,
   "metadata": {},
   "outputs": [],
   "source": [
    "# gt_items = list(ground_truth.items())\n",
    "# random.shuffle(gt_items)\n",
    "\n",
    "random.shuffle(annotations)"
   ]
  },
  {
   "cell_type": "code",
   "execution_count": 52,
   "metadata": {},
   "outputs": [],
   "source": [
    "train_size = 0.8\n",
    "\n",
    "train_data = []\n",
    "test_data = []\n",
    "for i, (filename, annotation) in enumerate(annotations):\n",
    "    if i < int(train_size * len(annotations)):\n",
    "        train_data.append(''.join([filename, '\\t', annotation, '\\n']))\n",
    "    else:\n",
    "        test_data.append(''.join([filename, '\\t', annotation, '\\n']))\n"
   ]
  },
  {
   "cell_type": "code",
   "execution_count": 15,
   "metadata": {},
   "outputs": [],
   "source": [
    "with open('datasets/OCR/train_annotation.txt', 'w') as f:\n",
    "    for row in train_data:\n",
    "        f.write(row)\n",
    "    f.close()\n",
    "\n",
    "with open('datasets/OCR/test_annotation.txt', 'w') as f:\n",
    "    for row in test_data:\n",
    "        f.write(row)\n",
    "    f.close()"
   ]
  },
  {
   "cell_type": "code",
   "execution_count": 16,
   "metadata": {},
   "outputs": [],
   "source": [
    "with open('datasets/OCR/train_annotation.txt', 'r') as f:\n",
    "    lines = f.readlines()\n",
    "    train_annotations = [l.strip().split('\\t') for l in lines]\n",
    "try:\n",
    "    for i,( _, _) in enumerate(train_annotations):\n",
    "        pass\n",
    "except ValueError:\n",
    "    print('Error at line:', i)\n"
   ]
  },
  {
   "cell_type": "code",
   "execution_count": 17,
   "metadata": {},
   "outputs": [],
   "source": [
    "with open('datasets/OCR/test_annotation.txt', 'r') as f:\n",
    "    lines = f.readlines()\n",
    "    test_annotations = [l.strip().split('\\t') for l in lines]\n",
    "try:\n",
    "    for i,( _, _) in enumerate(test_annotations):\n",
    "        pass\n",
    "except ValueError:\n",
    "    print('Error at line:', i)"
   ]
  },
  {
   "cell_type": "markdown",
   "metadata": {},
   "source": [
    "# Muti-lines Only"
   ]
  },
  {
   "cell_type": "code",
   "execution_count": null,
   "metadata": {},
   "outputs": [],
   "source": []
  },
  {
   "cell_type": "code",
   "execution_count": 27,
   "metadata": {},
   "outputs": [],
   "source": [
    "# if not isinstance(annotations, list):\n",
    "annotations = []\n",
    "for index, row in df.iterrows():\n",
    "    \n",
    "    annotation = [os.path.join('label_text_16012020', row['image_name']), row['text']]\n",
    "    annotations.append(annotation)\n"
   ]
  },
  {
   "cell_type": "code",
   "execution_count": 28,
   "metadata": {},
   "outputs": [
    {
     "data": {
      "text/plain": [
       "333"
      ]
     },
     "execution_count": 28,
     "metadata": {},
     "output_type": "execute_result"
    }
   ],
   "source": [
    "len(annotations)"
   ]
  },
  {
   "cell_type": "code",
   "execution_count": 29,
   "metadata": {},
   "outputs": [
    {
     "data": {
      "text/plain": [
       "['label_text_16012020/img_1_padded_0.jpg',\n",
       " '04902430779746 NX DOWNY doahoa ngotngao\\\\nVAT10%   1    88,000.00    88,000.00 \\\\nGia goc:   103,000.00 ']"
      ]
     },
     "execution_count": 29,
     "metadata": {},
     "output_type": "execute_result"
    }
   ],
   "source": [
    "annotations[0]"
   ]
  },
  {
   "cell_type": "markdown",
   "metadata": {},
   "source": [
    "### Train test split"
   ]
  },
  {
   "cell_type": "code",
   "execution_count": 30,
   "metadata": {},
   "outputs": [],
   "source": [
    "import random\n",
    "random.seed(42)"
   ]
  },
  {
   "cell_type": "code",
   "execution_count": 31,
   "metadata": {},
   "outputs": [],
   "source": [
    "# gt_items = list(ground_truth.items())\n",
    "# random.shuffle(gt_items)\n",
    "\n",
    "random.shuffle(annotations)"
   ]
  },
  {
   "cell_type": "code",
   "execution_count": 32,
   "metadata": {},
   "outputs": [],
   "source": [
    "train_size = 0.8\n",
    "\n",
    "train_data = []\n",
    "test_data = []\n",
    "for i, (filename, annotation) in enumerate(annotations):\n",
    "    if i < int(train_size * len(annotations)):\n",
    "        train_data.append(''.join([filename, '\\t', annotation, '\\n']))\n",
    "    else:\n",
    "        test_data.append(''.join([filename, '\\t', annotation, '\\n']))\n"
   ]
  },
  {
   "cell_type": "code",
   "execution_count": 33,
   "metadata": {},
   "outputs": [],
   "source": [
    "with open('datasets/OCR/train_lines_annotation.txt', 'w') as f:\n",
    "    for row in train_data:\n",
    "        f.write(row)\n",
    "    f.close()\n",
    "\n",
    "with open('datasets/OCR/test_lines_annotation.txt', 'w') as f:\n",
    "    for row in test_data:\n",
    "        f.write(row)\n",
    "    f.close()"
   ]
  },
  {
   "cell_type": "code",
   "execution_count": 34,
   "metadata": {},
   "outputs": [],
   "source": [
    "with open('datasets/OCR/train_lines_annotation.txt', 'r') as f:\n",
    "    lines = f.readlines()\n",
    "    train_annotations = [l.strip().split('\\t') for l in lines]\n",
    "try:\n",
    "    for i,( _, _) in enumerate(train_annotations):\n",
    "        pass\n",
    "except ValueError:\n",
    "    print('Error at line:', i)\n"
   ]
  },
  {
   "cell_type": "code",
   "execution_count": 35,
   "metadata": {},
   "outputs": [],
   "source": [
    "with open('datasets/OCR/test_lines_annotation.txt', 'r') as f:\n",
    "    lines = f.readlines()\n",
    "    test_annotations = [l.strip().split('\\t') for l in lines]\n",
    "try:\n",
    "    for i,( _, _) in enumerate(test_annotations):\n",
    "        pass\n",
    "except ValueError:\n",
    "    print('Error at line:', i)"
   ]
  },
  {
   "cell_type": "markdown",
   "metadata": {},
   "source": [
    "# Single-line Only"
   ]
  },
  {
   "cell_type": "code",
   "execution_count": null,
   "metadata": {},
   "outputs": [],
   "source": []
  },
  {
   "cell_type": "code",
   "execution_count": 36,
   "metadata": {},
   "outputs": [],
   "source": [
    "dataset = 'datasets/OCR/images'\n",
    "txt_files = [os.path.join(dataset, file) for file in os.listdir(dataset) if file.endswith('.txt')]\n",
    "\n",
    "annotations = []\n",
    "\n",
    "for file in txt_files:\n",
    "    with open(file, 'rb') as f:\n",
    "        s = f.read()\n",
    "        filename = os.path.splitext(os.path.splitext(os.path.split(file)[1])[0])[0]\n",
    "        annotations.append(['images/' + filename + '.jpg', s.decode('utf-8')])"
   ]
  },
  {
   "cell_type": "code",
   "execution_count": 37,
   "metadata": {},
   "outputs": [
    {
     "data": {
      "text/plain": [
       "440"
      ]
     },
     "execution_count": 37,
     "metadata": {},
     "output_type": "execute_result"
    }
   ],
   "source": [
    "len(annotations)"
   ]
  },
  {
   "cell_type": "code",
   "execution_count": 38,
   "metadata": {},
   "outputs": [
    {
     "data": {
      "text/plain": [
       "['images/img_55_25_12_padded_market_name_120.jpg', 'Co.opMart PHU LAM']"
      ]
     },
     "execution_count": 38,
     "metadata": {},
     "output_type": "execute_result"
    }
   ],
   "source": [
    "annotations[0]"
   ]
  },
  {
   "cell_type": "markdown",
   "metadata": {},
   "source": [
    "### Train test split"
   ]
  },
  {
   "cell_type": "code",
   "execution_count": 40,
   "metadata": {},
   "outputs": [],
   "source": [
    "import random\n",
    "random.seed(42)\n",
    "\n",
    "random.shuffle(annotations)"
   ]
  },
  {
   "cell_type": "code",
   "execution_count": 41,
   "metadata": {},
   "outputs": [],
   "source": [
    "train_size = 0.8\n",
    "\n",
    "train_data = []\n",
    "test_data = []\n",
    "for i, (filename, annotation) in enumerate(annotations):\n",
    "    if i < int(train_size * len(annotations)):\n",
    "        train_data.append(''.join([filename, '\\t', annotation, '\\n']))\n",
    "    else:\n",
    "        test_data.append(''.join([filename, '\\t', annotation, '\\n']))\n"
   ]
  },
  {
   "cell_type": "code",
   "execution_count": 42,
   "metadata": {},
   "outputs": [],
   "source": [
    "with open('datasets/OCR/train_line_annotation.txt', 'w') as f:\n",
    "    for row in train_data:\n",
    "        f.write(row)\n",
    "    f.close()\n",
    "\n",
    "with open('datasets/OCR/test_line_annotation.txt', 'w') as f:\n",
    "    for row in test_data:\n",
    "        f.write(row)\n",
    "    f.close()"
   ]
  },
  {
   "cell_type": "code",
   "execution_count": 43,
   "metadata": {},
   "outputs": [],
   "source": [
    "with open('datasets/OCR/train_line_annotation.txt', 'r') as f:\n",
    "    lines = f.readlines()\n",
    "    train_annotations = [l.strip().split('\\t') for l in lines]\n",
    "try:\n",
    "    for i,( _, _) in enumerate(train_annotations):\n",
    "        pass\n",
    "except ValueError:\n",
    "    print('Error at line:', i)\n"
   ]
  },
  {
   "cell_type": "code",
   "execution_count": 44,
   "metadata": {},
   "outputs": [],
   "source": [
    "with open('datasets/OCR/test_line_annotation.txt', 'r') as f:\n",
    "    lines = f.readlines()\n",
    "    test_annotations = [l.strip().split('\\t') for l in lines]\n",
    "try:\n",
    "    for i,( _, _) in enumerate(test_annotations):\n",
    "        pass\n",
    "except ValueError:\n",
    "    print('Error at line:', i)"
   ]
  },
  {
   "cell_type": "code",
   "execution_count": null,
   "metadata": {},
   "outputs": [],
   "source": []
  }
 ],
 "metadata": {
  "kernelspec": {
   "display_name": "Python 3",
   "language": "python",
   "name": "python3"
  },
  "language_info": {
   "codemirror_mode": {
    "name": "ipython",
    "version": 3
   },
   "file_extension": ".py",
   "mimetype": "text/x-python",
   "name": "python",
   "nbconvert_exporter": "python",
   "pygments_lexer": "ipython3",
   "version": "3.7.9"
  }
 },
 "nbformat": 4,
 "nbformat_minor": 4
}
