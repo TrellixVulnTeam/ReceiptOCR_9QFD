{
 "cells": [
  {
   "cell_type": "code",
   "execution_count": 127,
   "metadata": {},
   "outputs": [],
   "source": [
    "import cv2 \n",
    "import os\n",
    "import numpy as np\n",
    "import xml.etree.ElementTree as ET\n",
    "import matplotlib.pyplot as plt"
   ]
  },
  {
   "cell_type": "code",
   "execution_count": 109,
   "metadata": {},
   "outputs": [],
   "source": [
    "def read_XML(path):\n",
    "    tree = ET.parse(path)\n",
    "    root = tree.getroot()\n",
    "    result = []\n",
    "    for att in root.iter('object'):\n",
    "        tmp = {}\n",
    "        label = att.find('name').text\n",
    "        for subatt in att.iter('bndbox'):\n",
    "            xmin = subatt.find('xmin').text\n",
    "            ymin = subatt.find('ymin').text\n",
    "            xmax = subatt.find('xmax').text\n",
    "            ymax = subatt.find('ymax').text\n",
    "        tmp['label'] = label\n",
    "        tmp['xmin'] = xmin\n",
    "        tmp['xmax'] = xmax\n",
    "        tmp['ymin'] = ymin\n",
    "        tmp['ymax'] = ymax\n",
    "        result.append(tmp)\n",
    "    return result"
   ]
  },
  {
   "cell_type": "code",
   "execution_count": 133,
   "metadata": {},
   "outputs": [],
   "source": [
    "#Chinhr lai path\n",
    "path = 'datasets/transformed'"
   ]
  },
  {
   "cell_type": "code",
   "execution_count": 134,
   "metadata": {},
   "outputs": [],
   "source": [
    "if not os.path.isdir(os.path.join(path,'market_name')):\n",
    "    os.mkdir(os.path.join(path,'market_name'))\n",
    "if not os.path.isdir(os.path.join(path,'date')):\n",
    "    os.mkdir(os.path.join(path,'date'))\n",
    "if not os.path.isdir(os.path.join(path,'bill_code')):\n",
    "    os.mkdir(os.path.join(path,'bill_code'))\n",
    "if not os.path.isdir(os.path.join(path,'product_attributes')):\n",
    "    os.mkdir(os.path.join(path,'product_attributes'))\n"
   ]
  },
  {
   "cell_type": "code",
   "execution_count": null,
   "metadata": {},
   "outputs": [],
   "source": [
    "images = []\n",
    "for image in os.listdir(path):\n",
    "    if os.path.isfile(os.path.join(path,f'{image[:-3]}xml')) and 'jpg' in image:\n",
    "        fileName = os.path.join(path,image)\n",
    "        dictCrop = read_XML(os.path.join(path,f'{image[:-3]}xml'))\n",
    "        img = cv2.imread(fileName)\n",
    "        for ele in dictCrop:\n",
    "            xmin = int(ele['xmin'])\n",
    "            ymin = int(ele['ymin'])\n",
    "            xmax = int(ele['xmax'])\n",
    "            ymax = int(ele['ymax'])\n",
    "            img_crop = img[ymin:ymax,xmin:xmax]\n",
    "            cv2.imwrite(os.path.join(path,ele['label'],image),img_crop)\n",
    "images = np.array(images)"
   ]
  },
  {
   "cell_type": "code",
   "execution_count": null,
   "metadata": {},
   "outputs": [],
   "source": []
  }
 ],
 "metadata": {
  "kernelspec": {
   "display_name": "Python 3",
   "language": "python",
   "name": "python3"
  },
  "language_info": {
   "codemirror_mode": {
    "name": "ipython",
    "version": 3
   },
   "file_extension": ".py",
   "mimetype": "text/x-python",
   "name": "python",
   "nbconvert_exporter": "python",
   "pygments_lexer": "ipython3",
   "version": "3.8.3"
  }
 },
 "nbformat": 4,
 "nbformat_minor": 4
}
