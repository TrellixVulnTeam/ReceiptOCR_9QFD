{
 "cells": [
  {
   "cell_type": "code",
   "execution_count": 1,
   "metadata": {},
   "outputs": [],
   "source": [
    "import pandas as pd\n",
    "import plac\n",
    "import random\n",
    "import warnings\n",
    "from pathlib import Path\n",
    "import spacy\n",
    "from spacy.util import minibatch, compounding\n"
   ]
  },
  {
   "cell_type": "code",
   "execution_count": 2,
   "metadata": {},
   "outputs": [],
   "source": [
    "data = pd.read_csv('./label_text_product_attrs.csv', dtype=str)"
   ]
  },
  {
   "cell_type": "code",
   "execution_count": 6,
   "metadata": {},
   "outputs": [],
   "source": [
    "data.rename(columns={'sale_price': 'ppu', 'final_price': 'total_price'}, inplace=True)"
   ]
  },
  {
   "cell_type": "code",
   "execution_count": 7,
   "metadata": {},
   "outputs": [
    {
     "data": {
      "text/plain": [
       "image_name                                        img_1_padded_0.jpg\n",
       "text               04902430779746 NX DOWNY doahoa ngotngao\\nVAT10...\n",
       "sku                                                   04902430779746\n",
       "product_name                               NX DOWNY doahoa ngotngao \n",
       "quantity                                                          1 \n",
       "ppu                                                       88,000.00 \n",
       "total_price                                               88,000.00 \n",
       "discounted_part                                                  NaN\n",
       "original_price                                           103,000.00 \n",
       "Name: 0, dtype: object"
      ]
     },
     "execution_count": 7,
     "metadata": {},
     "output_type": "execute_result"
    }
   ],
   "source": [
    "data.iloc[0]"
   ]
  },
  {
   "cell_type": "code",
   "execution_count": 191,
   "metadata": {},
   "outputs": [],
   "source": [
    "def getNameProduct(text):\n",
    "    start = 15\n",
    "    end = 0\n",
    "    productName = []\n",
    "    label = 'product_name'\n",
    "    for i in range(start,len(text)):\n",
    "        if text[i]==' ' and text[i+1:i+7] == 'VAT10%':\n",
    "            end_tmp = i\n",
    "            productName.append((start,end_tmp,'product_name'))\n",
    "            break\n",
    "        if text[i] == ' ':\n",
    "            end_tmp = i\n",
    "            productName.append((start,end_tmp,'product_name'))\n",
    "            start = end_tmp + 1\n",
    "        \n",
    "    return productName\n",
    "    \n",
    "def getQuantity(text, endNameProduct):\n",
    "    start = 10000\n",
    "    end = 0\n",
    "    flag = 0\n",
    "    for i in range(endNameProduct+7,len(text)):\n",
    "        if text[i] != ' ' and flag == 0:\n",
    "            start = i\n",
    "            flag = 1\n",
    "        if text[i] == ' ' and i > start:\n",
    "            end = i\n",
    "            break\n",
    "    return start,end\n",
    "    \n",
    "def getPPU(text, endQuantity):\n",
    "    start = 10000\n",
    "    end = 0\n",
    "    flag = 0\n",
    "    for i in range(endQuantity,len(text)):\n",
    "        if text[i] != ' ' and flag == 0:\n",
    "            start = i\n",
    "            flag = 1\n",
    "        if text[i] == ' ' and i > start:\n",
    "            end = i\n",
    "            break\n",
    "    return start,end\n",
    " \n",
    "def getTotalPrice(text, endPPU):\n",
    "    start = 10000\n",
    "    end = 0\n",
    "    flag = 0\n",
    "    for i in range(endPPU,len(text)):\n",
    "        if text[i] != ' ' and flag == 0:\n",
    "            start = i\n",
    "            flag = 1\n",
    "        if text[i] == ' ' and i > start:\n",
    "            end = i\n",
    "            break\n",
    "    return start,end\n",
    "\n",
    "# def getOriginalPrice(text,endTP)\n",
    "    \n",
    "    \n",
    "    \n",
    "def get_row_entities(df):\n",
    "    data = []\n",
    "    for index, row in df.iterrows():\n",
    "        entities = []\n",
    "        text = row['text'].replace('\\\\n',' ')\n",
    "        products = getNameProduct(text)\n",
    "        endName = products[-1][1]\n",
    "        startQuantity, endQuantity = getQuantity(text,endName)\n",
    "        startPPU, endPPU = getPPU(text,endQuantity)\n",
    "        startTP, endTP = getTotalPrice(text,endPPU)\n",
    "#         startOriPrice,endOriPrice = getOriginalPrice(text,endTP)\n",
    "        entities.append((0,14,'sku'))\n",
    "        for product in products:\n",
    "            entities.append(product)\n",
    "        entities.append((startQuantity,endQuantity,'quantity'))\n",
    "        entities.append((startPPU,endPPU,'ppu'))\n",
    "        entities.append((startTP,endTP,'total_price'))\n",
    "#         entities.append((startOriPrice,endOriPrice,'original_price'))\n",
    "        res = (text,{\"entities\":entities})\n",
    "        data.append(res)\n",
    "    return data"
   ]
  },
  {
   "cell_type": "code",
   "execution_count": 152,
   "metadata": {},
   "outputs": [
    {
     "data": {
      "text/plain": [
       "14"
      ]
     },
     "execution_count": 152,
     "metadata": {},
     "output_type": "execute_result"
    }
   ],
   "source": [
    "str = '08936049051548'\n",
    "len(str)"
   ]
  },
  {
   "cell_type": "code",
   "execution_count": 166,
   "metadata": {},
   "outputs": [
    {
     "name": "stdout",
     "output_type": "stream",
     "text": [
      "04902430415637 NX DOWNY doahoa thom matcvd VAT10%   14214    129,900.00    129,421.00  Gia goc:   159,000.00 \n",
      "NX\n",
      "DOWNY\n",
      "doahoa\n",
      "thom\n",
      "matcvd\n",
      "Name [(15, 17, 'product_name'), (18, 23, 'product_name'), (24, 30, 'product_name'), (31, 35, 'product_name'), (36, 42, 'product_name')]\n"
     ]
    }
   ],
   "source": [
    "text = '04902430415637 NX DOWNY doahoa thom matcvd VAT10%   14214    129,900.00    129,421.00  Gia goc:   159,000.00 '\n",
    "print(text)\n",
    "a = getNameProduct(text)\n",
    "# startQ, endQ = getQuantity(text,end)\n",
    "# startPPU, endPPU = getPPU(text,endQ)\n",
    "# startTP, endTP = getTotalPrice(text,endPPU)\n",
    "for i in a:\n",
    "    print(text[i[0]:i[1]])\n",
    "print(\"Name\",a)\n",
    "# print(\"Quantity\",text[startQ:endQ])\n",
    "# print(\"PPU\", text[startPPU:endPPU])\n",
    "# print(\"TP\", text[startTP: endTP])"
   ]
  },
  {
   "cell_type": "code",
   "execution_count": 192,
   "metadata": {
    "scrolled": true
   },
   "outputs": [
    {
     "name": "stdout",
     "output_type": "stream",
     "text": [
      "08934679943325 Mi GAUDO vi tom & ga goi VAT10%   8    2,900.00    23,200.00  Gia goc:   3,200.00 \n",
      "sku: 08934679943325\n",
      "product_name: Mi\n",
      "product_name: GAUDO\n",
      "product_name: vi\n",
      "product_name: tom\n",
      "product_name: &\n",
      "product_name: ga\n",
      "product_name: goi\n",
      "quantity: 8\n",
      "ppu: 2,900.00\n",
      "total_price: 23,200.00\n"
     ]
    }
   ],
   "source": [
    "index = 15\n",
    "tmp = get_row_entities(data)[index][0]\n",
    "print(tmp)\n",
    "for i in get_row_entities(data)[index][1]['entities']:\n",
    "    print(f\"{i[-1]}:\",tmp[i[0]:i[1]])"
   ]
  },
  {
   "cell_type": "code",
   "execution_count": null,
   "metadata": {},
   "outputs": [],
   "source": []
  }
 ],
 "metadata": {
  "kernelspec": {
   "display_name": "Python 3",
   "language": "python",
   "name": "python3"
  },
  "language_info": {
   "codemirror_mode": {
    "name": "ipython",
    "version": 3
   },
   "file_extension": ".py",
   "mimetype": "text/x-python",
   "name": "python",
   "nbconvert_exporter": "python",
   "pygments_lexer": "ipython3",
   "version": "3.8.3"
  }
 },
 "nbformat": 4,
 "nbformat_minor": 4
}
